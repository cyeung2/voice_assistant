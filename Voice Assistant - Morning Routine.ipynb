{
 "cells": [
  {
   "cell_type": "code",
   "execution_count": 30,
   "id": "99c5f5eb",
   "metadata": {},
   "outputs": [],
   "source": [
    "# This is my Voice Assistant"
   ]
  },
  {
   "cell_type": "code",
   "execution_count": 31,
   "id": "bf192f33",
   "metadata": {},
   "outputs": [],
   "source": [
    "from vosk import Model, KaldiRecognizer\n",
    "import pyaudio\n",
    "#windows use pipwin\n",
    "import pyttsx3\n",
    "from datetime import datetime\n",
    "import geocoder\n",
    "import requests\n",
    "import json\n",
    "from dotenv import load_dotenv\n",
    "import os"
   ]
  },
  {
   "cell_type": "code",
   "execution_count": 32,
   "id": "73a2a3fa",
   "metadata": {},
   "outputs": [],
   "source": [
    "load_dotenv()\n",
    "#pulled from env\n",
    "# Weather - Tomorrow.io - Api Key\n",
    "weather_key = os.environ.get(\"weather_tmr_api\")\n",
    "# Vosk Model Path\n",
    "model_path = os.environ.get(\"vosk_small_eng_path\")"
   ]
  },
  {
   "cell_type": "code",
   "execution_count": 33,
   "id": "cc6cfefb",
   "metadata": {},
   "outputs": [],
   "source": [
    "#https://alphacephei.com/vosk/models\n",
    "#Download english model and find the file path\n",
    "model = Model(model_path)\n",
    "recognizer = KaldiRecognizer(model, 16000)"
   ]
  },
  {
   "cell_type": "code",
   "execution_count": 34,
   "id": "d65b187d",
   "metadata": {},
   "outputs": [],
   "source": [
    "mic = pyaudio.PyAudio()\n",
    "listening = False\n",
    "speaker = pyttsx3.init()\n",
    "speaker.setProperty('volume', 1.5)"
   ]
  },
  {
   "cell_type": "code",
   "execution_count": 35,
   "id": "922384af",
   "metadata": {},
   "outputs": [],
   "source": [
    "# weather Code Dict\n",
    "weatherCode = {\n",
    "    \"0\": \"Unknown\",\n",
    "    \"1000\": \"Clear or Sunny skies\",\n",
    "    \"1100\": \"Mostly Clear skies\",\n",
    "    \"1101\": \"Partly Cloudy skies\",\n",
    "    \"1102\": \"Mostly Cloudy skies\",\n",
    "    \"1001\": \"Cloudy skies\",\n",
    "    \"2000\": \"some Fog\",\n",
    "    \"2100\": \"Light Fog\",\n",
    "    \"4000\": \"a light Drizzle\",\n",
    "    \"4001\": \"Rain\",\n",
    "    \"4200\": \"Light Rain\",\n",
    "    \"4201\": \"Heavy Rain\",\n",
    "    \"5000\": \"Snow\",\n",
    "    \"5001\": \"Flurries\",\n",
    "    \"5100\": \"Light Snow\",\n",
    "    \"5101\": \"Heavy Snow\",\n",
    "    \"6000\": \"Freezing Drizzle\",\n",
    "    \"6001\": \"Freezing Rain\",\n",
    "    \"6200\": \"Light Freezing Rain\",\n",
    "    \"6201\": \"Heavy Freezing Rain\",\n",
    "    \"7000\": \"Ice Pellets\",\n",
    "    \"7101\": \"Heavy Ice Pellets\",\n",
    "    \"7102\": \"Light Ice Pellets\",\n",
    "    \"8000\": \"Thunderstorms\"\n",
    "}"
   ]
  },
  {
   "cell_type": "code",
   "execution_count": 36,
   "id": "161f9b5f",
   "metadata": {},
   "outputs": [],
   "source": [
    "def get_command():\n",
    "    listening = True\n",
    "    stream = mic.open(format = pyaudio.paInt16, channels = 1, rate = 16000, input = True, frames_per_buffer = 8192)\n",
    "    while(listening):\n",
    "        stream.start_stream()\n",
    "        try:\n",
    "            data = stream.read(4096)\n",
    "            if recognizer.AcceptWaveform(data):\n",
    "                speech = recognizer.Result()\n",
    "                text = speech[14:-3]\n",
    "                listening = False\n",
    "                stream.close()\n",
    "                return text\n",
    "        except OSError:\n",
    "            pass"
   ]
  },
  {
   "cell_type": "code",
   "execution_count": 37,
   "id": "784dfa86",
   "metadata": {},
   "outputs": [],
   "source": [
    "def execute_command(command):\n",
    "    try:\n",
    "        print(command)\n",
    "        if \"what's the weather\" in command or \"today's weather\" in command or \"today weather\" in command:\n",
    "            weather_today()\n",
    "        if \"what's the time\" in command or \"what time is it\" in command:\n",
    "            time_now()\n",
    "        # if \"today's schedule\" in command or \"schedule today\" in command or \"today schedule\" in command:\n",
    "            # calendar_today()\n",
    "    except Exception:\n",
    "        pass"
   ]
  },
  {
   "cell_type": "code",
   "execution_count": 38,
   "id": "a2eb795d",
   "metadata": {},
   "outputs": [],
   "source": [
    "def speak(text):\n",
    "    speaker.say(text)\n",
    "    speaker.runAndWait()\n",
    "    speaker.stop()"
   ]
  },
  {
   "cell_type": "code",
   "execution_count": 39,
   "id": "8e419794",
   "metadata": {},
   "outputs": [],
   "source": [
    "def weather_help():\n",
    "    # Using API from tomorrow.io\n",
    "    try:\n",
    "        my_loc = geocoder.ip('me')\n",
    "        location = str(my_loc.lat) + '%2C%20' + str(my_loc.lng)\n",
    "        # URL Builder -> Api refereces above\n",
    "        url = 'https://api.tomorrow.io/v4/timelines?location='+ location + '&fields=temperature&fields=temperatureApparent&fields=humidity&fields=weatherCode&timesteps=current&units=metric&apikey=' + weather_key\n",
    "        response_API = requests.get(url)\n",
    "        data = response_API.text\n",
    "        if '{\"code\":429001,\"message\":\"The request limit for this resource has been reached for the current rate limit window. Wait and retry the operation, or examine your API request volume.\",\"type\":429}' in data:\n",
    "            text = 'you have reached the API call limit for today'\n",
    "            return text\n",
    "        values = json.loads(data)\n",
    "        values = values['data']['timelines'][0]['intervals'][0]['values']\n",
    "        code = str(values['weatherCode'])\n",
    "        text = \"Todays temperature is \" + str(values['temperature']) +' celcius. Expect ' + weatherCode.get(code)\n",
    "        return text\n",
    "    except Exception:\n",
    "        pass"
   ]
  },
  {
   "cell_type": "code",
   "execution_count": 40,
   "id": "d4c8c52b",
   "metadata": {},
   "outputs": [],
   "source": [
    "# what's the weather || weather today\n",
    "def weather_today():\n",
    "    text = weather_help()\n",
    "    speak(text)"
   ]
  },
  {
   "cell_type": "code",
   "execution_count": 41,
   "id": "41f093e4",
   "metadata": {},
   "outputs": [],
   "source": [
    "# what's the time || what time is it\n",
    "def time_now():\n",
    "    time = datetime.now()\n",
    "    curr_time = time.strftime(\"%H:%M\")\n",
    "    text = \"It is currently \" + curr_time\n",
    "    speak(text)"
   ]
  },
  {
   "cell_type": "code",
   "execution_count": 42,
   "id": "54f0c54c",
   "metadata": {},
   "outputs": [],
   "source": [
    "# today's schedule || schedule today || today schedule\n",
    "# def calendar_today():"
   ]
  },
  {
   "cell_type": "code",
   "execution_count": 43,
   "id": "f8a702f8",
   "metadata": {
    "scrolled": false
   },
   "outputs": [
    {
     "name": "stdout",
     "output_type": "stream",
     "text": [
      "\n",
      "stop\n",
      "voice assistant offline\n"
     ]
    }
   ],
   "source": [
    "while True:\n",
    "    command = get_command()\n",
    "    if \"stop stop\" in command:\n",
    "        text = 'voice assistant offline'\n",
    "        print(text)\n",
    "        speak(text)\n",
    "        break\n",
    "    execute_command(command)"
   ]
  }
 ],
 "metadata": {
  "kernelspec": {
   "display_name": "Python 3 (ipykernel)",
   "language": "python",
   "name": "python3"
  },
  "language_info": {
   "codemirror_mode": {
    "name": "ipython",
    "version": 3
   },
   "file_extension": ".py",
   "mimetype": "text/x-python",
   "name": "python",
   "nbconvert_exporter": "python",
   "pygments_lexer": "ipython3",
   "version": "3.10.5"
  }
 },
 "nbformat": 4,
 "nbformat_minor": 5
}
